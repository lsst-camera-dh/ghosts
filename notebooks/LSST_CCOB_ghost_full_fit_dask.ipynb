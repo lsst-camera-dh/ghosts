{
 "cells": [
  {
   "cell_type": "markdown",
   "id": "814aa4da",
   "metadata": {},
   "source": [
    "# LSST CCOB ghost fit to the geometry with DASK\n",
    "\n",
    "Not working example of trying to use DASK to fit the geometry"
   ]
  },
  {
   "cell_type": "markdown",
   "id": "d333a205",
   "metadata": {
    "tags": []
   },
   "source": [
    "## TODO\n",
    "- not working"
   ]
  },
  {
   "cell_type": "code",
   "execution_count": null,
   "id": "bab2caaa",
   "metadata": {},
   "outputs": [],
   "source": [
    "%load_ext autoreload\n",
    "%autoreload 2"
   ]
  },
  {
   "cell_type": "code",
   "execution_count": null,
   "id": "6f6c40cd",
   "metadata": {},
   "outputs": [],
   "source": [
    "import timeit\n",
    "import copy\n",
    "import concurrent.futures \n",
    "import math\n",
    "import numpy as np\n",
    "import matplotlib.pyplot as plt\n",
    "import pandas as pd\n",
    "\n",
    "from scipy.optimize import minimize_scalar, minimize\n",
    "\n",
    "import batoid\n",
    "import ghosts.plotter as plotter\n",
    "import ghosts.simulator as simulator\n",
    "import ghosts.tweak_optics as tweak_optics\n",
    "\n",
    "from ghosts.analysis import reduce_ghosts, compute_ghost_separations\n",
    "from ghosts.analysis import match_ghosts, compute_reduced_distance, compute_2d_reduced_distance, find_nearest_ghost\n",
    "from ghosts.analysis import make_data_frame\n",
    "\n",
    "from ghosts.beam_configs import BEAM_CONFIG_0, BEAM_CONFIG_1, BEAM_CONFIG_2, FAST_BEAM_CONFIG_1\n",
    "from ghosts.geom_configs import GEOM_CONFIG_0\n"
   ]
  },
  {
   "cell_type": "code",
   "execution_count": null,
   "id": "fdd8b5d6",
   "metadata": {},
   "outputs": [],
   "source": [
    "from ghosts.constants import *\n",
    "print(f'LSST Camera has {LSST_CAMERA_PIXEL_DENSITY_MM2:.0f} pixels per mm^2')"
   ]
  },
  {
   "cell_type": "markdown",
   "id": "7a926624-24de-4704-aa30-ea8290ea3531",
   "metadata": {},
   "source": [
    "### True ghosts catalog ~ real data\n",
    "- Build an aligned telescope, choose one CCOB ghost config, generate ghosts catalog"
   ]
  },
  {
   "cell_type": "code",
   "execution_count": null,
   "id": "fe7a15cb",
   "metadata": {},
   "outputs": [],
   "source": [
    "# A few numbers, sepcific to 600 nm\n",
    "beam_power_600nm = 13  # 13 Watt for the full spot according to measurements done in Grenoble\n",
    "ccd_reflectivity_600nm = 0.141338\n",
    "ccd_qe_600nm = 0.843274\n",
    "lens_reflectivity_600nm = 0.004  # 0.4% code by Julien Bolmont\n",
    "filter_reflectivity_600nm = 0.038  # r band filter documentation stated transmission is 96.2%\n",
    "\n",
    "# CCOB like geometry, i.e. lenses but no filter\n",
    "ref_telescope = batoid.Optic.fromYaml(\"../data/LSST_CCOB_r_aligned.yaml\")\n",
    "\n",
    "# Make refractive interfaces partially reflective\n",
    "# Call on current telescope, smart coating is [lens, filter, camera]\n",
    "tweak_optics.make_optics_reflective(ref_telescope, coating='smart',\n",
    "                                    r_frac=[lens_reflectivity_600nm, filter_reflectivity_600nm, ccd_reflectivity_600nm])"
   ]
  },
  {
   "cell_type": "code",
   "execution_count": null,
   "id": "e536d23d-907a-49ed-b6e1-c30a0e83d2d2",
   "metadata": {},
   "outputs": [],
   "source": [
    "# Cool ghost configuration\n",
    "ref_beam = copy.deepcopy(BEAM_CONFIG_0)\n",
    "ref_beam['beam_id'] = 999042\n",
    "ref_beam['n_photons'] = 10000\n",
    "ref_beam['x_offset'] = +0.3\n",
    "ref_beam['y_offset'] = -0.55\n",
    "ref_beam['x_euler'] = -17\n",
    "ref_beam['y_euler'] = -6\n",
    "\n",
    "# make a copy with less photons for the fit\n",
    "fit_beam = copy.deepcopy(ref_beam)\n",
    "fit_beam['n_photons'] = 1000"
   ]
  },
  {
   "cell_type": "code",
   "execution_count": null,
   "id": "119257fb",
   "metadata": {},
   "outputs": [],
   "source": [
    "# Ray trace one config for debugging\n",
    "trace_full, r_forward, r_reverse, rays = simulator.run_simulation(ref_telescope, beam_config=ref_beam)\n",
    "simulation = [trace_full, r_forward, r_reverse, rays]\n",
    "\n",
    "# reduce ghosts\n",
    "ref_spots_data, _spots = reduce_ghosts(r_forward)\n",
    "ref_spots_data_frame = make_data_frame(ref_spots_data, beam_id=ref_beam['beam_id'], geom_id=0)\n",
    "ref_gh_sep = compute_ghost_separations(ref_spots_data_frame)\n",
    "ref_spots_data_frame.sort_values(by=['name'])"
   ]
  },
  {
   "cell_type": "code",
   "execution_count": null,
   "id": "ac35bd41-778f-467a-8caa-f465de26976d",
   "metadata": {},
   "outputs": [],
   "source": [
    "# plot focal plane\n",
    "_fig, _ax = plotter.plot_full_camera_and_spots(r_forward, ref_spots_data_frame, log_scale=True)"
   ]
  },
  {
   "cell_type": "markdown",
   "id": "02a7d2e9-f749-4e25-9503-3f23f3824bda",
   "metadata": {},
   "source": [
    "### Full fit using Gaussian Processes parallelized with DASK"
   ]
  },
  {
   "cell_type": "code",
   "execution_count": null,
   "id": "446f8c42-d220-4abe-8e85-f2f4469dbd06",
   "metadata": {},
   "outputs": [],
   "source": [
    "GEOM_LABELS = [\"L1_dx\", \"L1_dy\", \"L1_dz\", \"L1_rx\", \"L1_ry\",\n",
    "               \"L2_dx\", \"L2_dy\", \"L2_dz\", \"L2_rx\", \"L2_ry\",\n",
    "               \"L3_dx\", \"L3_dy\", \"L3_dz\", \"L3_rx\", \"L3_ry\"]\n",
    "\n",
    "\n",
    "def unpack_geom_params(geom_params, geom_labels=GEOM_LABELS):\n",
    "    fitted_geom_config = {}\n",
    "    for i, lab in enumerate(geom_labels):\n",
    "        fitted_geom_config[lab]=geom_params[i]\n",
    "    return fitted_geom_config\n",
    "\n",
    "\n",
    "def build_telescope_to_fit(geom_params):\n",
    "    \"\"\" Build telescope to fit from reference telescope\n",
    "    \"\"\"\n",
    "    # Build telescope\n",
    "    fitted_geom_config = unpack_geom_params(geom_params)\n",
    "    fitted_telescope = tweak_optics.tweak_telescope(ref_telescope, fitted_geom_config)\n",
    "    # Make refractive interfaces partially reflective\n",
    "    tweak_optics.make_optics_reflective(fitted_telescope, coating='smart',\n",
    "                                        r_frac=[lens_reflectivity_600nm, filter_reflectivity_600nm, ccd_reflectivity_600nm])\n",
    "    return fitted_telescope\n",
    "\n",
    "\n",
    "def compute_distance_for_fit(geom_params):\n",
    "    \"\"\" Callable function for the fit\n",
    "    \"\"\"\n",
    "    # new telescope\n",
    "    fitted_telescope = build_telescope_to_fit(geom_params)\n",
    "    fit_spots_df = simulator.run_and_analyze_simulation(fitted_telescope, geom_id=0, beam_config=fit_beam)\n",
    "    # match ghosts\n",
    "    match = match_ghosts(ref_spots_data_frame, fit_spots_df, radius_scale_factor=10)\n",
    "    dist_2d = compute_2d_reduced_distance(match)\n",
    "    fitted_geom_config = unpack_geom_params(geom_params)\n",
    "    if not np.random.randint(10)%9:\n",
    "        print(f'{dist_2d:.6f} {fitted_geom_config[\"L1_dx\"]:.6f} {fitted_geom_config[\"L1_dy\"]:.6f} {fitted_geom_config[\"L1_dz\"]:.6f} {fitted_geom_config[\"L1_rx\"]:.6f} {fitted_geom_config[\"L1_ry\"]:.6f}', end=\" \")\n",
    "        print(f'{dist_2d:.6f} {fitted_geom_config[\"L2_dx\"]:.6f} {fitted_geom_config[\"L2_dy\"]:.6f} {fitted_geom_config[\"L2_dz\"]:.6f} {fitted_geom_config[\"L2_rx\"]:.6f} {fitted_geom_config[\"L2_ry\"]:.6f}', end=\" \")\n",
    "        print(f'{dist_2d:.6f} {fitted_geom_config[\"L3_dx\"]:.6f} {fitted_geom_config[\"L3_dy\"]:.6f} {fitted_geom_config[\"L3_dz\"]:.6f} {fitted_geom_config[\"L3_rx\"]:.6f} {fitted_geom_config[\"L3_ry\"]:.6f}')\n",
    "    return dist_2d\n",
    "\n"
   ]
  },
  {
   "cell_type": "code",
   "execution_count": null,
   "id": "4f96f37a-51d8-42f1-a79e-f9ed46f0bad8",
   "metadata": {},
   "outputs": [],
   "source": [
    "from dask.distributed import Client\n",
    "\n",
    "client = Client(\"tcp://127.0.0.1:42642\")\n",
    "client"
   ]
  },
  {
   "cell_type": "code",
   "execution_count": null,
   "id": "52e856d5-32fd-48f5-a7af-4bc8332dd677",
   "metadata": {},
   "outputs": [],
   "source": [
    "# DASK test example\n",
    "import joblib, time\n",
    "def long_running_function(i):\n",
    "    y=0\n",
    "    for x in range(100000000):\n",
    "        y = y+x\n",
    "    return y\n",
    "\n",
    "with joblib.parallel_backend('dask'):\n",
    "    joblib.Parallel(verbose=100)(\n",
    "        joblib.delayed(long_running_function)(i)\n",
    "        for i in range(10))"
   ]
  },
  {
   "cell_type": "code",
   "execution_count": null,
   "id": "a473a462-67df-4c05-b951-d77249dd7a9a",
   "metadata": {},
   "outputs": [],
   "source": [
    "import joblib\n",
    "from skopt import Optimizer, expected_minimum\n",
    "\n",
    "# bounds\n",
    "dxs = [(-0.0005, 0.0005)]*3\n",
    "rxs = [(-0.01, 0.01)]*2\n",
    "list_of_bounds = (dxs+rxs)+(dxs+rxs)+(dxs+rxs)\n",
    "\n",
    "# n_calls\n",
    "gp_ncalls = 20\n",
    "\n",
    "# minimize\n",
    "opt = Optimizer(list_of_bounds, n_jobs=4)\n",
    "for k in range(gp_ncalls):\n",
    "    suggested = opt.ask()\n",
    "    distance = compute_distance_for_fit(suggested)\n",
    "    opt.tell(suggested, distance)\n",
    "\n",
    "opt.get_result()\n",
    "expected_minimum(res)\n"
   ]
  },
  {
   "cell_type": "code",
   "execution_count": null,
   "id": "2fe028eb-d0a9-4ae5-b204-ceb588e736be",
   "metadata": {},
   "outputs": [],
   "source": [
    "_ = plot_objective(res,  sample_source='result', n_points=20)\n"
   ]
  },
  {
   "cell_type": "code",
   "execution_count": null,
   "id": "6137b413-5d9f-4ad6-ba24-a9cad24ce36a",
   "metadata": {},
   "outputs": [],
   "source": []
  }
 ],
 "metadata": {
  "kernelspec": {
   "display_name": "ghosts",
   "language": "python",
   "name": "ghosts"
  },
  "language_info": {
   "codemirror_mode": {
    "name": "ipython",
    "version": 3
   },
   "file_extension": ".py",
   "mimetype": "text/x-python",
   "name": "python",
   "nbconvert_exporter": "python",
   "pygments_lexer": "ipython3",
   "version": "3.8.5"
  }
 },
 "nbformat": 4,
 "nbformat_minor": 5
}
